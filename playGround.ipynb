{
 "cells": [
  {
   "cell_type": "code",
   "execution_count": 3,
   "source": [
    "import torch\n",
    "from myYOLOModel import pretrainedVGG11\n",
    "from math import sqrt"
   ],
   "outputs": [],
   "metadata": {}
  },
  {
   "cell_type": "code",
   "execution_count": 4,
   "source": [
    "model=pretrainedVGG11()"
   ],
   "outputs": [],
   "metadata": {}
  },
  {
   "cell_type": "code",
   "execution_count": 5,
   "source": [
    "pretrain=torch.load('../data/vgg11_bn-6002323d.pth')"
   ],
   "outputs": [],
   "metadata": {}
  },
  {
   "cell_type": "code",
   "execution_count": 6,
   "source": [
    "print(pretrain.keys())"
   ],
   "outputs": [
    {
     "output_type": "stream",
     "name": "stdout",
     "text": [
      "odict_keys(['features.0.weight', 'features.0.bias', 'features.1.weight', 'features.1.bias', 'features.1.running_mean', 'features.1.running_var', 'features.4.weight', 'features.4.bias', 'features.5.weight', 'features.5.bias', 'features.5.running_mean', 'features.5.running_var', 'features.8.weight', 'features.8.bias', 'features.9.weight', 'features.9.bias', 'features.9.running_mean', 'features.9.running_var', 'features.11.weight', 'features.11.bias', 'features.12.weight', 'features.12.bias', 'features.12.running_mean', 'features.12.running_var', 'features.15.weight', 'features.15.bias', 'features.16.weight', 'features.16.bias', 'features.16.running_mean', 'features.16.running_var', 'features.18.weight', 'features.18.bias', 'features.19.weight', 'features.19.bias', 'features.19.running_mean', 'features.19.running_var', 'features.22.weight', 'features.22.bias', 'features.23.weight', 'features.23.bias', 'features.23.running_mean', 'features.23.running_var', 'features.25.weight', 'features.25.bias', 'features.26.weight', 'features.26.bias', 'features.26.running_mean', 'features.26.running_var', 'classifier.0.weight', 'classifier.0.bias', 'classifier.3.weight', 'classifier.3.bias', 'classifier.6.weight', 'classifier.6.bias'])\n"
     ]
    }
   ],
   "metadata": {}
  },
  {
   "cell_type": "code",
   "execution_count": 7,
   "source": [
    "model.features[0].weight.data=pretrain.get('features.0.weight')\n",
    "model.features[0].bias.data=pretrain.get('features.0.bias')\n",
    "model.features[1].weight.data=pretrain.get('features.1.weight')\n",
    "model.features[1].bias.data=pretrain.get('features.1.bias')\n",
    "model.features[1].running_mean.data=pretrain.get('features.1.running_mean')\n",
    "model.features[1].running_var.data=pretrain.get('features.1.running_var')\n",
    "model.features[4].weight.data=pretrain.get('features.4.weight')\n",
    "model.features[4].bias.data=pretrain.get('features.4.bias')\n",
    "model.features[5].weight.data=pretrain.get('features.5.weight')\n",
    "model.features[5].bias.data=pretrain.get('features.5.bias')\n",
    "model.features[5].running_mean.data=pretrain.get('features.5.running_mean')\n",
    "model.features[5].running_var.data=pretrain.get('features.5.running_var')\n",
    "model.features[8].weight.data=pretrain.get('features.8.weight')\n",
    "model.features[8].bias.data=pretrain.get('features.8.bias')\n",
    "model.features[9].weight.data=pretrain.get('features.9.weight')\n",
    "model.features[9].bias.data=pretrain.get('features.9.bias')\n",
    "model.features[9].running_mean.data=pretrain.get('features.9.running_mean')\n",
    "model.features[9].running_var.data=pretrain.get('features.9.running_var')\n",
    "model.features[11].weight.data=pretrain.get('features.11.weight')\n",
    "model.features[11].bias.data=pretrain.get('features.11.bias')\n",
    "model.features[12].weight.data=pretrain.get('features.12.weight')\n",
    "model.features[12].bias.data=pretrain.get('features.12.bias')\n",
    "model.features[12].running_mean.data=pretrain.get('features.12.running_mean')\n",
    "model.features[12].running_var.data=pretrain.get('features.12.running_var')\n",
    "model.features[15].weight.data=pretrain.get('features.15.weight')\n",
    "model.features[15].bias.data=pretrain.get('features.15.bias')\n",
    "model.features[16].weight.data=pretrain.get('features.16.weight')\n",
    "model.features[16].bias.data=pretrain.get('features.16.bias')\n",
    "model.features[16].running_mean.data=pretrain.get('features.16.running_mean')\n",
    "model.features[16].running_var.data=pretrain.get('features.16.running_var')\n",
    "model.features[18].weight.data=pretrain.get('features.18.weight')\n",
    "model.features[18].bias.data=pretrain.get('features.18.bias')\n",
    "model.features[19].weight.data=pretrain.get('features.19.weight')\n",
    "model.features[19].bias.data=pretrain.get('features.19.bias')\n",
    "model.features[19].running_mean.data=pretrain.get('features.19.running_mean')\n",
    "model.features[19].running_var.data=pretrain.get('features.19.running_var')"
   ],
   "outputs": [],
   "metadata": {}
  },
  {
   "cell_type": "code",
   "execution_count": 8,
   "source": [
    "torch.save(model.state_dict,'base.pth')"
   ],
   "outputs": [],
   "metadata": {}
  },
  {
   "cell_type": "code",
   "execution_count": 9,
   "source": [
    "test=torch.Tensor(3,4)\n",
    "print(test)"
   ],
   "outputs": [
    {
     "output_type": "stream",
     "name": "stdout",
     "text": [
      "tensor([[-4.0050e+06,  3.0957e-41,  8.9683e-44,  0.0000e+00],\n",
      "        [ 4.2039e-45,  0.0000e+00,  4.2039e-45,  0.0000e+00],\n",
      "        [ 4.2039e-45,  0.0000e+00,  2.6425e+20,  3.1369e+27]])\n"
     ]
    }
   ],
   "metadata": {}
  },
  {
   "cell_type": "code",
   "execution_count": 10,
   "source": [
    "i=test[:,2].max(0)\n",
    "i"
   ],
   "outputs": [
    {
     "output_type": "execute_result",
     "data": {
      "text/plain": [
       "torch.return_types.max(\n",
       "values=tensor(2.6425e+20),\n",
       "indices=tensor(2))"
      ]
     },
     "metadata": {},
     "execution_count": 10
    }
   ],
   "metadata": {}
  },
  {
   "cell_type": "code",
   "execution_count": 18,
   "source": [
    "torch.Tensor()\n"
   ],
   "outputs": [
    {
     "output_type": "execute_result",
     "data": {
      "text/plain": [
       "tensor([])"
      ]
     },
     "metadata": {},
     "execution_count": 18
    }
   ],
   "metadata": {}
  },
  {
   "cell_type": "code",
   "execution_count": null,
   "source": [],
   "outputs": [],
   "metadata": {}
  }
 ],
 "metadata": {
  "orig_nbformat": 4,
  "language_info": {
   "name": "python",
   "version": "3.9.5",
   "mimetype": "text/x-python",
   "codemirror_mode": {
    "name": "ipython",
    "version": 3
   },
   "pygments_lexer": "ipython3",
   "nbconvert_exporter": "python",
   "file_extension": ".py"
  },
  "kernelspec": {
   "name": "python3",
   "display_name": "Python 3.9.5 64-bit ('deepLearning': conda)"
  },
  "interpreter": {
   "hash": "291af6f51b4afe9003ee03ba0ba5d188f2f12d43b80a29274991226c079b4536"
  }
 },
 "nbformat": 4,
 "nbformat_minor": 2
}