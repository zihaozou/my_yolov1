{
 "cells": [
  {
   "cell_type": "code",
   "execution_count": 1,
   "source": [
    "import torch\n",
    "from yoloLoss import yoloLoss"
   ],
   "outputs": [],
   "metadata": {}
  },
  {
   "cell_type": "code",
   "execution_count": 6,
   "source": [
    "criterion=yoloLoss(7,2)\n",
    "target=torch.zeros(7,7,30)\n",
    "pred=torch.zeros(7,7,30)"
   ],
   "outputs": [],
   "metadata": {}
  },
  {
   "cell_type": "code",
   "execution_count": 7,
   "source": [
    "target[3,3,[0,5]]=0.5\n",
    "target[3,3,[1,6]]=0.5\n",
    "target[3,3,[2,7]]=0.5\n",
    "target[3,3,[3,8]]=0.5\n",
    "target[3,3,[4,9]]=1\n",
    "target[3,3,10]=1\n",
    "pred[3,3,[2,7]]=0.5\n",
    "pred[3,3,[3,8]]=0.5\n",
    "pred[3,3,[4,9]]=0.6\n",
    "pred[3,3,10]=0.6\n",
    "pred[3,3,11]=0.6"
   ],
   "outputs": [],
   "metadata": {}
  },
  {
   "cell_type": "code",
   "execution_count": 9,
   "source": [
    "40*40"
   ],
   "outputs": [
    {
     "output_type": "execute_result",
     "data": {
      "text/plain": [
       "1600"
      ]
     },
     "metadata": {},
     "execution_count": 9
    }
   ],
   "metadata": {}
  },
  {
   "cell_type": "code",
   "execution_count": 10,
   "source": [
    "56*56*2-1600"
   ],
   "outputs": [
    {
     "output_type": "execute_result",
     "data": {
      "text/plain": [
       "4672"
      ]
     },
     "metadata": {},
     "execution_count": 10
    }
   ],
   "metadata": {}
  },
  {
   "cell_type": "code",
   "execution_count": 11,
   "source": [
    "1600/4672"
   ],
   "outputs": [
    {
     "output_type": "execute_result",
     "data": {
      "text/plain": [
       "0.3424657534246575"
      ]
     },
     "metadata": {},
     "execution_count": 11
    }
   ],
   "metadata": {}
  },
  {
   "cell_type": "code",
   "execution_count": null,
   "source": [],
   "outputs": [],
   "metadata": {}
  }
 ],
 "metadata": {
  "orig_nbformat": 4,
  "language_info": {
   "name": "python",
   "version": "3.9.5",
   "mimetype": "text/x-python",
   "codemirror_mode": {
    "name": "ipython",
    "version": 3
   },
   "pygments_lexer": "ipython3",
   "nbconvert_exporter": "python",
   "file_extension": ".py"
  },
  "kernelspec": {
   "name": "python3",
   "display_name": "Python 3.9.5 64-bit ('deepLearning': conda)"
  },
  "interpreter": {
   "hash": "291af6f51b4afe9003ee03ba0ba5d188f2f12d43b80a29274991226c079b4536"
  }
 },
 "nbformat": 4,
 "nbformat_minor": 2
}